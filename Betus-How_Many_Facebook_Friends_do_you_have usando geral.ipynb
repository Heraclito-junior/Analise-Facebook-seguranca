{
 "cells": [
  {
   "cell_type": "code",
   "execution_count": 1,
   "metadata": {
    "collapsed": false
   },
   "outputs": [
    {
     "name": "stdout",
     "output_type": "stream",
     "text": [
      "Requirement already satisfied: facebook-sdk in c:\\anaconda\\lib\\site-packages\n",
      "Requirement already satisfied: requests in c:\\anaconda\\lib\\site-packages (from facebook-sdk)\n",
      "Requirement already satisfied: statistics in c:\\anaconda\\lib\\site-packages\n",
      "Requirement already satisfied: docutils>=0.3 in c:\\anaconda\\lib\\site-packages (from statistics)\n"
     ]
    }
   ],
   "source": [
    "### Library necessary to run this IPython Notebook\n",
    "!pip install facebook-sdk\n",
    "!pip install statistics\n",
    "\n",
    "### API >> https://facebook-sdk.readthedocs.io/en/latest/api.html\n",
    "### Get access token >> https://developers.facebook.com/tools/explorer\n"
   ]
  },
  {
   "cell_type": "markdown",
   "metadata": {},
   "source": [
    "## class facebook.GraphAPI\n",
    "A client for the Facebook Graph API. The Graph API is made up of the objects or nodes in Facebook (e.g., people, pages, events, photos) and the connections or edges between them (e.g., friends, photo tags, and event RSVPs). This client provides access to those primitive types in a generic way.\n",
    "\n",
    "You can read more about Facebook’s Graph API [here](https://developers.facebook.com/docs/graph-api)."
   ]
  },
  {
   "cell_type": "code",
   "execution_count": 2,
   "metadata": {
    "collapsed": false
   },
   "outputs": [],
   "source": [
    "import facebook\n",
    "graph = facebook.GraphAPI(access_token='EAACEdEose0cBAJVwnoo7GciZAali9I2cJZBSxqTT9jGxTkhZCboc27vvjIKnqyNfZCEpztdPPZCZCDfHdtRecqZBCwBf1ROHEueDc8ryNPCqPcZBHqe6jDRLKFars9xgZBP2ZCnJ0nPZAZClzKQZBtHz5LUU2OvgAFCqHgIjWgsWX2ydplWQGD1x5Lg7T', version='2.2')"
   ]
  },
  {
   "cell_type": "code",
   "execution_count": 3,
   "metadata": {
    "collapsed": false
   },
   "outputs": [
    {
     "name": "stdout",
     "output_type": "stream",
     "text": [
      "Populating the interactive namespace from numpy and matplotlib\n"
     ]
    }
   ],
   "source": [
    "### Only friends who installed the Graph API Explorer (facebook >> apps >> Graph API Explorer) \n",
    "### are returned in API v2.0 and higher. \n",
    "\n",
    "### https://developers.facebook.com/docs/graph-api/reference/v2.2/user/friends\n",
    "\n",
    "import pandas as pd\n",
    "import matplotlib\n",
    "\n",
    "%pylab inline\n",
    "pylab.rcParams['figure.figsize'] = (10, 8)\n",
    "\n",
    "friends = graph.get_object(\"me/friends\")\n"
   ]
  },
  {
   "cell_type": "markdown",
   "metadata": {},
   "source": [
    "## Criando a lista de IDs\n",
    "**id_of_friends** é a lista com os IDs dos seus amigos"
   ]
  },
  {
   "cell_type": "code",
   "execution_count": 4,
   "metadata": {
    "collapsed": false
   },
   "outputs": [
    {
     "name": "stdout",
     "output_type": "stream",
     "text": [
      "Alison Silva has id 1032134756839013\n",
      "Waldyr Fernandes has id 808400389216109\n",
      "Ana Caroline has id 765831436837419\n",
      "Heráclito Cesar has id 948685731934130\n",
      "Pitágoras Alves has id 161313964255674\n"
     ]
    },
    {
     "data": {
      "text/plain": [
       "['1032134756839013',\n",
       " '808400389216109',\n",
       " '765831436837419',\n",
       " '948685731934130',\n",
       " '161313964255674']"
      ]
     },
     "execution_count": 4,
     "metadata": {},
     "output_type": "execute_result"
    }
   ],
   "source": [
    "id_of_friends = []\n",
    "dictNomeID = {}\n",
    "\n",
    "\n",
    "for friend in friends['data']:\n",
    "    #print (\"{0} has id {1}\".format(friend['name'].encode('utf-8'), friend['id']))\n",
    "    print (\"{0} has id {1}\".format(friend['name'], friend['id']))\n",
    "    id_of_friends.append(friend['id'])\n",
    "    #dictNomeID[friend['id']] = friend['name'].encode('utf-8')\n",
    "    dictNomeID[friend['id']] = friend['name']\n",
    "        \n",
    "id_of_friends\n"
   ]
  },
  {
   "cell_type": "markdown",
   "metadata": {},
   "source": [
    "## Criando o dicionário de categorias curtidas\n",
    "**dictCategory** é o dicionário de categorias das curtidas do usuário, sendo categoria a chave para a quantidade de curtidas nesta mesma categoria. Em seguida, é feito o top 10 das categorias curtidas pelo usuário."
   ]
  },
  {
   "cell_type": "code",
   "execution_count": 15,
   "metadata": {
    "collapsed": false
   },
   "outputs": [
    {
     "name": "stdout",
     "output_type": "stream",
     "text": [
      "\n",
      "Top 10 do usuário\n",
      "1º lugar: Movie\n",
      "2º lugar: Just For Fun\n",
      "3º lugar: Product/Service\n",
      "4º lugar: Organization\n",
      "5º lugar: College & University\n",
      "6º lugar: Event Planner\n",
      "7º lugar: Author\n",
      "8º lugar: Advertising/Marketing\n",
      "9º lugar: Community\n",
      "10º lugar: Video Game\n",
      "\n",
      "Top 10 de Waldyr Fernandes\n",
      "1º lugar: Public Figure\n",
      "2º lugar: Video Game\n",
      "3º lugar: Games/Toys\n",
      "4º lugar: TV Channel\n",
      "5º lugar: TV Show\n",
      "6º lugar: Outdoor & Sporting Goods Company\n",
      "7º lugar: Sports League\n",
      "8º lugar: Paintball Center\n",
      "9º lugar: Music Chart\n",
      "10º lugar: Musician/Band\n",
      "\n",
      "Top 10 de Ana Caroline\n",
      "1º lugar: Artist\n",
      "2º lugar: TV Show\n",
      "3º lugar: Movie\n",
      "4º lugar: Education\n",
      "5º lugar: Event\n",
      "6º lugar: Music Video\n",
      "7º lugar: Fictional Character\n",
      "8º lugar: Entertainment Website\n",
      "9º lugar: Art\n",
      "10º lugar: Magazine\n",
      "\n",
      "Top 10 de Heráclito Cesar\n",
      "1º lugar: Company\n",
      "2º lugar: Writer\n",
      "3º lugar: Games/Toys\n",
      "4º lugar: Public Figure\n",
      "5º lugar: Just For Fun\n",
      "6º lugar: Movie\n",
      "7º lugar: Community\n",
      "8º lugar: Entertainment Website\n",
      "9º lugar: Computers/Internet Website\n",
      "10º lugar: Fictional Character\n",
      "\n",
      "Top 10 de Pitágoras Alves\n",
      "1º lugar: Artist\n",
      "2º lugar: Website\n",
      "3º lugar: Community\n",
      "4º lugar: Performance Art\n",
      "5º lugar: Art\n",
      "6º lugar: Public Figure\n",
      "7º lugar: Local/Travel Website\n",
      "8º lugar: Video Game\n",
      "9º lugar: Comedian\n",
      "10º lugar: Media/News Company\n",
      "oi\n",
      "{'Movie': 2, 'Just For Fun': 1, 'Product/Service': 0, 'Organization': 0, 'College & University': 0, 'Event Planner': 0, 'Author': 0, 'Advertising/Marketing': 0, 'Community': 2, 'Video Game': 2}\n",
      "oi\n"
     ]
    },
    {
     "data": {
      "text/html": [
       "<div>\n",
       "<table border=\"1\" class=\"dataframe\">\n",
       "  <thead>\n",
       "    <tr style=\"text-align: right;\">\n",
       "      <th></th>\n",
       "      <th>Categoria</th>\n",
       "      <th>Quantidade</th>\n",
       "    </tr>\n",
       "  </thead>\n",
       "  <tbody>\n",
       "    <tr>\n",
       "      <th>0</th>\n",
       "      <td>Movie</td>\n",
       "      <td>2</td>\n",
       "    </tr>\n",
       "    <tr>\n",
       "      <th>1</th>\n",
       "      <td>Just For Fun</td>\n",
       "      <td>1</td>\n",
       "    </tr>\n",
       "    <tr>\n",
       "      <th>2</th>\n",
       "      <td>Product/Service</td>\n",
       "      <td>0</td>\n",
       "    </tr>\n",
       "    <tr>\n",
       "      <th>3</th>\n",
       "      <td>Organization</td>\n",
       "      <td>0</td>\n",
       "    </tr>\n",
       "    <tr>\n",
       "      <th>4</th>\n",
       "      <td>College &amp; University</td>\n",
       "      <td>0</td>\n",
       "    </tr>\n",
       "    <tr>\n",
       "      <th>5</th>\n",
       "      <td>Event Planner</td>\n",
       "      <td>0</td>\n",
       "    </tr>\n",
       "    <tr>\n",
       "      <th>6</th>\n",
       "      <td>Author</td>\n",
       "      <td>0</td>\n",
       "    </tr>\n",
       "    <tr>\n",
       "      <th>7</th>\n",
       "      <td>Advertising/Marketing</td>\n",
       "      <td>0</td>\n",
       "    </tr>\n",
       "    <tr>\n",
       "      <th>8</th>\n",
       "      <td>Community</td>\n",
       "      <td>2</td>\n",
       "    </tr>\n",
       "    <tr>\n",
       "      <th>9</th>\n",
       "      <td>Video Game</td>\n",
       "      <td>2</td>\n",
       "    </tr>\n",
       "  </tbody>\n",
       "</table>\n",
       "</div>"
      ],
      "text/plain": [
       "               Categoria  Quantidade\n",
       "0                  Movie           2\n",
       "1           Just For Fun           1\n",
       "2        Product/Service           0\n",
       "3           Organization           0\n",
       "4   College & University           0\n",
       "5          Event Planner           0\n",
       "6                 Author           0\n",
       "7  Advertising/Marketing           0\n",
       "8              Community           2\n",
       "9             Video Game           2"
      ]
     },
     "execution_count": 15,
     "metadata": {},
     "output_type": "execute_result"
    }
   ],
   "source": [
    "dictPessoal={}\n",
    "totalUsuario=0;\n",
    "likes = graph.get_object(\"me/likes?fields=name,category\")\n",
    "lista = likes['data']\n",
    "\n",
    "dictCategory = {}\n",
    "dictAmizade={}\n",
    "\n",
    "def keyValorMaximo(d):\n",
    "    v = list(d.values())\n",
    "    k = list(d.keys())\n",
    "    return k[v.index(max(v))]\n",
    "\n",
    "for like in likes['data']:\n",
    "    #print (\"{0} has category {1}\".format(like['name'], like['category']))\n",
    "    if like['category'] in dictCategory:\n",
    "        dictCategory[like['category']] = dictCategory[like['category']] + 1\n",
    "        dictPessoal[like['category']] = dictPessoal[like['category']] + 1\n",
    "\n",
    "    else:\n",
    "        dictCategory[like['category']] = 1\n",
    "        dictPessoal[like['category']] = 1\n",
    "    totalUsuario+=1\n",
    "    \n",
    "#print(dictCategory)\n",
    "\n",
    "listaTop10 = []\n",
    "\n",
    "# Dicionário com os likes do usuário, o valor é a quantidade de lieks em comum com os amigos\n",
    "dictLikesComum = {}\n",
    "\n",
    "print(\"\\nTop 10 do usuário\")\n",
    "rangeTop = 10\n",
    "if len(dictCategory) < 10:\n",
    "    rangeTop = len(dictCategory)\n",
    "    \n",
    "for i in range(rangeTop):\n",
    "    valorMax = str(keyValorMaximo(dictCategory))\n",
    "    print(str(i + 1) + \"º lugar: \" + valorMax)\n",
    "    listaTop10.append(valorMax)\n",
    "    dictLikesComum[valorMax] = 0\n",
    "    del dictCategory[valorMax]\n",
    "    \n",
    "\n",
    "## Criando o dicionário de categorias curtidas em comum\n",
    "\"\"\"**dictLikesComum** é um dicionário semelhante ao **dictCategory**, porém o valor associado às chaves corresponde à \n",
    "quantidade de curtidas dos amigos do usuário sobre o seu top 10. \n",
    "ISso é feito calculando o **dictCategory** (top 10) de todos os amigos. \n",
    "Antes de processar o dicionário é verificado se o tamanho de **dictCategory** (ou seja, o top 10 do amigo em questão) é maior \n",
    "do que 0, pois caso contrário daria um erro em tempo de execução caso um usuário não tenha permitido a \n",
    "verificação dos seus likes.\"\"\"\n",
    "\n",
    "# Fazer uma lista com as listas de Top 10 dos amigos\n",
    "\n",
    "totalAmigo=0\n",
    "pontosAmigo=0\n",
    "\n",
    "for friend_id in id_of_friends:\n",
    "    acessFriend =  \"\" + friend_id + \"/likes?fields=name,category\"\n",
    "    likes = graph.get_object(acessFriend)\n",
    "    lista = likes['data']\n",
    "    totalAmigo=0\n",
    "    pontosAmigo=0\n",
    "\n",
    "    dictCategory = {}\n",
    "\n",
    "    for like in likes['data']:\n",
    "        #print (\"{0} has category {1}\".format(like['name'], like['category']))\n",
    "        if like['category'] in dictCategory:\n",
    "            dictCategory[like['category']] = dictCategory[like['category']] + 1\n",
    "        else:\n",
    "            dictCategory[like['category']] = 1\n",
    "        totalAmigo+=1\n",
    "\n",
    "        \n",
    "    listaTop10 = []\n",
    "    pontosAmigo=0\n",
    "    if len(dictCategory) > 0:\n",
    "        print(\"\\nTop 10 de \" + str(dictNomeID[friend_id]))\n",
    "        #print(totalAmigo)\n",
    "        rangeTop = 10\n",
    "        if len(dictCategory) < 10:\n",
    "            rangeTop = len(dictCategory)\n",
    "        for i in range(rangeTop):\n",
    "            \n",
    "            valorMax = str(keyValorMaximo(dictCategory))\n",
    "\n",
    "            print(str(i + 1) + \"º lugar: \" + valorMax)\n",
    "            listaTop10.append(valorMax)\n",
    "            \n",
    "            if valorMax in dictPessoal:\n",
    "                pU=dictPessoal[valorMax];\n",
    "                pA=dictCategory[valorMax]\n",
    "                \n",
    "                parteUser=(pU/totalUsuario)+1\n",
    "                parteAmigo=(pA/totalAmigo)\n",
    "                pontosAtuais=parteUser*parteAmigo\n",
    "                \n",
    "                pontosAmigo+=(pontosAtuais);\n",
    "            \n",
    "            if valorMax in dictLikesComum:\n",
    "                dictLikesComum[valorMax] = dictLikesComum[valorMax] + 1\n",
    "            del dictCategory[valorMax]\n",
    "\n",
    "        listaTop10\n",
    "        dictAmizade[dictNomeID[friend_id]]=pontosAmigo\n",
    "\n",
    "print('oi')\n",
    "print(dictLikesComum)\n",
    "print('oi')\n",
    "\n",
    "df = pd.DataFrame()\n",
    "df['Categoria'] = dictLikesComum.keys()\n",
    "df['Quantidade'] = dictLikesComum.values()\n",
    "df"
   ]
  },
  {
   "cell_type": "markdown",
   "metadata": {},
   "source": [
    "## Histograma de curtidas em comum\n",
    "O histograma abaixo exibe a quantidade de curtidas dos seus amigos dentro das categorias do top 10 do usuário."
   ]
  },
  {
   "cell_type": "code",
   "execution_count": 16,
   "metadata": {
    "collapsed": false
   },
   "outputs": [
    {
     "data": {
      "text/plain": [
       "<matplotlib.axes._subplots.AxesSubplot at 0x1adda987748>"
      ]
     },
     "execution_count": 16,
     "metadata": {},
     "output_type": "execute_result"
    },
    {
     "data": {
      "image/png": "[encoded data removed]",
      "text/plain": [
       "<matplotlib.figure.Figure at 0x1addad82208>"
      ]
     },
     "metadata": {},
     "output_type": "display_data"
    }
   ],
   "source": [
    "likes_counts = df.groupby(['Categoria'])['Quantidade'].sum()\n",
    "likes_counts.plot(kind='bar')"
   ]
  },
  {
   "cell_type": "markdown",
   "metadata": {},
   "source": [
    "## Histograma de afinidade\n",
    "O histograma abaixo exibe a afinidade entre o usuario e os seus amigos"
   ]
  },
  {
   "cell_type": "code",
   "execution_count": 17,
   "metadata": {
    "collapsed": false
   },
   "outputs": [
    {
     "data": {
      "text/plain": [
       "<matplotlib.axes._subplots.AxesSubplot at 0x1addad551d0>"
      ]
     },
     "execution_count": 17,
     "metadata": {},
     "output_type": "execute_result"
    },
    {
     "data": {
      "image/png": "[encoded data removed]",
      "text/plain": [
       "<matplotlib.figure.Figure at 0x1adda9d4208>"
      ]
     },
     "metadata": {},
     "output_type": "display_data"
    }
   ],
   "source": [
    "af = pd.DataFrame()\n",
    "af['Nome'] = dictAmizade.keys()\n",
    "af['Pontos'] = dictAmizade.values()\n",
    "\n",
    "afinidade = af.groupby(['Nome'])['Pontos'].sum()\n",
    "afinidade.plot(kind='bar')"
   ]
  }
 ],
 "metadata": {
  "anaconda-cloud": {},
  "kernelspec": {
   "display_name": "Python 3",
   "language": "python",
   "name": "python3"
  },
  "language_info": {
   "codemirror_mode": {
    "name": "ipython",
    "version": 3
   },
   "file_extension": ".py",
   "mimetype": "text/x-python",
   "name": "python",
   "nbconvert_exporter": "python",
   "pygments_lexer": "ipython3",
   "version": "3.6.0"
  }
 },
 "nbformat": 4,
 "nbformat_minor": 1
}
